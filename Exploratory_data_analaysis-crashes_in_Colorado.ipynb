{
 "cells": [
  {
   "cell_type": "code",
   "execution_count": 2,
   "metadata": {
    "_cell_guid": "b1076dfc-b9ad-4769-8c92-a6c4dae69d19",
    "_uuid": "8f2839f25d086af736a60e9eeb907d3b93b6e0e5"
   },
   "outputs": [
    {
     "ename": "ModuleNotFoundError",
     "evalue": "No module named 'numpy'",
     "output_type": "error",
     "traceback": [
      "\u001b[31m---------------------------------------------------------------------------\u001b[39m",
      "\u001b[31mModuleNotFoundError\u001b[39m                       Traceback (most recent call last)",
      "\u001b[36mCell\u001b[39m\u001b[36m \u001b[39m\u001b[32mIn[2]\u001b[39m\u001b[32m, line 5\u001b[39m\n\u001b[32m      1\u001b[39m \u001b[38;5;66;03m# This Python 3 environment comes with many helpful analytics libraries installed\u001b[39;00m\n\u001b[32m      2\u001b[39m \u001b[38;5;66;03m# It is defined by the kaggle/python Docker image: https://github.com/kaggle/docker-python\u001b[39;00m\n\u001b[32m      3\u001b[39m \u001b[38;5;66;03m# For example, here's several helpful packages to load\u001b[39;00m\n\u001b[32m----> \u001b[39m\u001b[32m5\u001b[39m \u001b[38;5;28;01mimport\u001b[39;00m\u001b[38;5;250m \u001b[39m\u001b[34;01mnumpy\u001b[39;00m\u001b[38;5;250m \u001b[39m\u001b[38;5;28;01mas\u001b[39;00m\u001b[38;5;250m \u001b[39m\u001b[34;01mnp\u001b[39;00m \u001b[38;5;66;03m# linear algebra\u001b[39;00m\n\u001b[32m      6\u001b[39m \u001b[38;5;28;01mimport\u001b[39;00m\u001b[38;5;250m \u001b[39m\u001b[34;01mpandas\u001b[39;00m\u001b[38;5;250m \u001b[39m\u001b[38;5;28;01mas\u001b[39;00m\u001b[38;5;250m \u001b[39m\u001b[34;01mpd\u001b[39;00m \u001b[38;5;66;03m# data processing, CSV file I/O (e.g. pd.read_csv)\u001b[39;00m\n\u001b[32m      8\u001b[39m \u001b[38;5;66;03m# Input data files are available in the read-only \"../input/\" directory\u001b[39;00m\n\u001b[32m      9\u001b[39m \u001b[38;5;66;03m# For example, running this (by clicking run or pressing Shift+Enter) will list all files under the input directory\u001b[39;00m\n",
      "\u001b[31mModuleNotFoundError\u001b[39m: No module named 'numpy'"
     ]
    }
   ],
   "source": [
    "# This Python 3 environment comes with many helpful analytics libraries installed\n",
    "# It is defined by the kaggle/python Docker image: https://github.com/kaggle/docker-python\n",
    "# For example, here's several helpful packages to load\n",
    "\n",
    "import numpy as np # linear algebra\n",
    "import pandas as pd # data processing, CSV file I/O (e.g. pd.read_csv)\n",
    "\n",
    "# Input data files are available in the read-only \"../input/\" directory\n",
    "# For example, running this (by clicking run or pressing Shift+Enter) will list all files under the input directory\n",
    "\n",
    "import os\n",
    "for dirname, _, filenames in os.walk('/kaggle/input'):\n",
    "    for filename in filenames:\n",
    "        print(os.path.join(dirname, filename))\n",
    "\n",
    "# You can write up to 20GB to the current directory (/kaggle/working/) that gets preserved as output when you create a version using \"Save & Run All\" \n",
    "# You can also write temporary files to /kaggle/temp/, but they won't be saved outside of the current session"
   ]
  },
  {
   "cell_type": "markdown",
   "metadata": {},
   "source": [
    "# **Crushes in Colorado Exploratory data analysis**"
   ]
  },
  {
   "cell_type": "markdown",
   "metadata": {},
   "source": [
    "Introduction:\n",
    "* Colorado Springs is a city in Colorado state in the Western United States.\n",
    "* CSPD is the police of Colorado Springs.\n",
    "* The dataset was taken from the CSPD."
   ]
  },
  {
   "cell_type": "markdown",
   "metadata": {},
   "source": [
    "Tasks:\n",
    "* Clean the data\n",
    "* Analyze the dataset\n",
    "* Present appropriate graphs"
   ]
  },
  {
   "cell_type": "markdown",
   "metadata": {},
   "source": [
    "## <h2>Preparation</h2>\n"
   ]
  },
  {
   "cell_type": "markdown",
   "metadata": {},
   "source": [
    "Import the libraries:"
   ]
  },
  {
   "cell_type": "code",
   "execution_count": null,
   "metadata": {},
   "outputs": [],
   "source": [
    "import pandas as pd\n",
    "import numpy as np\n",
    "import matplotlib.pyplot as plt\n",
    "import plotly.express as px\n",
    "import seaborn as sns\n",
    "import plotly.graph_objects as go\n",
    "from plotly.subplots import make_subplots\n",
    "import plotly.io as pio\n",
    "pio.renderers.default = 'notebook'\n"
   ]
  },
  {
   "cell_type": "markdown",
   "metadata": {},
   "source": [
    "Reading the csv file:"
   ]
  },
  {
   "cell_type": "code",
   "execution_count": null,
   "metadata": {},
   "outputs": [],
   "source": [
    "df=pd.read_csv('/kaggle/input/road-crushes/Crash_Data_20250227.csv')\n",
    "pd.set_option('display.max_columns', None)"
   ]
  },
  {
   "cell_type": "markdown",
   "metadata": {},
   "source": [
    "Lets see what is the shape of our dataset"
   ]
  },
  {
   "cell_type": "code",
   "execution_count": null,
   "metadata": {},
   "outputs": [],
   "source": [
    "print(f'The dataset has {df.shape[0]} rows and {df.shape[1]} columns')"
   ]
  },
  {
   "cell_type": "markdown",
   "metadata": {},
   "source": [
    "Now,lets see 5 random rows to understand better:"
   ]
  },
  {
   "cell_type": "code",
   "execution_count": null,
   "metadata": {},
   "outputs": [],
   "source": [
    "df.sample(5)"
   ]
  },
  {
   "cell_type": "markdown",
   "metadata": {},
   "source": [
    "Lets see the columns of the dataframe:"
   ]
  },
  {
   "cell_type": "code",
   "execution_count": null,
   "metadata": {},
   "outputs": [],
   "source": [
    "df.columns"
   ]
  },
  {
   "cell_type": "markdown",
   "metadata": {},
   "source": [
    "<h3>Data columns dictionary</h3>\n",
    "\n",
    "* **Accident Number**- Number used to identify a traffic crash report in CSPD's records management system.\n",
    "* **Citation Number**- Number used to identify a citation (ticket) in CSPD's records management system.\n",
    "* **Citation Issued**- Indicates whether or not a citation (ticket) was issued in the crash.\n",
    "* **Accident Date Time**- Date and time of crash.\n",
    "* **Unit Type**- Indicates whether at fault driver was in a vehicle or on a bicycle.\n",
    "* **Vehicle Type**- Type of vehicle driven by at fault driver.\n",
    "* **Age of At Fault Person**- Age of person determined to be at fault in the crash.\n",
    "* **Race of At Fault Person**- Race of person determined to be at fault in the crash.\n",
    "* **Gender of At Fault Person**- Gender of person determined to be at fault in the crash.\n",
    "* **Ethnicity of At Fault Person**- Ethnicity of person determined to be at fault in the crash.\n",
    "* **Driver Action**- Action that best describes the driver action that led to the crash. Choices are determined by State of Colorado crash report form.\n",
    "* **Driver Contributing Factor**- Conditions that contributed to the crash. Choices are determined by State of Colorado crash report form.\n",
    "* **First Harmful Event**- First point of injury or damage in the sequence of events in a traffic crash.\n",
    "* **Zone Sector**- CSPD division and sector where crash occurred.\n",
    "* **Involved Injury**- Indicates whether crash involved injury.\n",
    "* **Number Injured**- Number of people injured in crash.\n",
    "* **Involved Death**- Indicates whether the crash involved the death of a person.\n",
    "* **Number Killed**- Number of people killed in the crash.\n",
    "* **Motorcycle Involved**- Indicates whether a motorcycle was involved in the crash.\n",
    "* **Motorcycle At Fault**- Indicates whether an involved motorcycle was at fault in the crash.\n",
    "* **Bicycle Involved**- Indicates whether a bicycle was involved in the crash.\n",
    "* **Bicycle At Fault**- Indicates whether an involved bicycle was at fault in the crash.\n",
    "* **Pedestrian Involved**- Indicates whether a pedestrian was involved in the crash.\n",
    "* **Pedestrian At Fault**- Indicates whether a pedestrian was at fault in the crash.\n",
    "* **Crash Location**- Street address where crash occurred.\n",
    "* **City**- City in which crash occurred.\n",
    "* **Zip Code**- Zip code in which crash occurred.\n",
    "* **Location Point**- Latitude and longitude of crash location.\n",
    "* **Patrol Division**- CSPD Patrol Division in which crash occurred.\n",
    "\n"
   ]
  },
  {
   "cell_type": "markdown",
   "metadata": {},
   "source": [
    "Now,lets check the data type of all columns:"
   ]
  },
  {
   "cell_type": "code",
   "execution_count": null,
   "metadata": {},
   "outputs": [],
   "source": [
    "df.dtypes"
   ]
  },
  {
   "cell_type": "markdown",
   "metadata": {},
   "source": [
    "We see that the column 'Accident Date Time' is an object lets convert it to datetime"
   ]
  },
  {
   "cell_type": "code",
   "execution_count": null,
   "metadata": {},
   "outputs": [],
   "source": [
    "df['Accident Date Time']=pd.to_datetime(df['Accident Date Time'], format=\"%m/%d/%Y %I:%M:%S %p\")"
   ]
  },
  {
   "cell_type": "markdown",
   "metadata": {},
   "source": [
    "Lets check how much null values we have in each column:"
   ]
  },
  {
   "cell_type": "code",
   "execution_count": null,
   "metadata": {},
   "outputs": [],
   "source": [
    "df.isna().sum()"
   ]
  },
  {
   "cell_type": "markdown",
   "metadata": {},
   "source": [
    "handling with null values:\n",
    "* I chose to drop unnecessary columns that i will not use in this analysis\n",
    "* I chose to drop rows with null values in columns crucial to my analysis\n",
    "* I fill the null values in numerical columns with mode (in all of them the mode is either 0 or 'NO Factor') so that they not impact the analysis"
   ]
  },
  {
   "cell_type": "code",
   "execution_count": null,
   "metadata": {},
   "outputs": [],
   "source": [
    "df.dropna(subset=['Vehicle Type','Age of At Fault Person','Ethnicity of At Fault Person','Race of At Fault Person','Zone Sector'],inplace=True)\n",
    "df.drop(columns=['Citation Number','Crash Location','Unit Type','Driver Action','First Harmful Event','City','Location Point','Zip Code','Patrol Division'],inplace=True)\n",
    "for col in ['Number Injured', 'Number Killed', 'Driver Contributing Factor']:\n",
    "    df[col].fillna(df[col].mode()[0], inplace=True)"
   ]
  },
  {
   "cell_type": "markdown",
   "metadata": {},
   "source": [
    "Checking duplicated rows:"
   ]
  },
  {
   "cell_type": "code",
   "execution_count": null,
   "metadata": {},
   "outputs": [],
   "source": [
    "df.duplicated().sum()"
   ]
  },
  {
   "cell_type": "markdown",
   "metadata": {},
   "source": [
    "There are some duplicated rows, lets get rid of them:"
   ]
  },
  {
   "cell_type": "code",
   "execution_count": null,
   "metadata": {},
   "outputs": [],
   "source": [
    "df.drop_duplicates(inplace=True)"
   ]
  },
  {
   "cell_type": "markdown",
   "metadata": {},
   "source": [
    "Checking the amount of unique items of each column"
   ]
  },
  {
   "cell_type": "code",
   "execution_count": null,
   "metadata": {},
   "outputs": [],
   "source": [
    "print(f'number of rows: {len(df)}')\n",
    "df.nunique()"
   ]
  },
  {
   "cell_type": "markdown",
   "metadata": {},
   "source": [
    "We see that we have duplicates in Accident Number so after checking its because its the same crash but 1 row with no citation issued and 1 row the opposite, so lets get rid of that rows"
   ]
  },
  {
   "cell_type": "code",
   "execution_count": null,
   "metadata": {},
   "outputs": [],
   "source": [
    "df=df[~df['Accident Number'].duplicated()]"
   ]
  },
  {
   "cell_type": "markdown",
   "metadata": {},
   "source": [
    "Validation: Checking that there is no contradiction in the dataframe."
   ]
  },
  {
   "cell_type": "code",
   "execution_count": null,
   "metadata": {},
   "outputs": [],
   "source": [
    "print(((df['Involved Death']=='Yes') & (df['Number Killed']==0)).sum())\n",
    "print(((df['Involved Injury']=='Yes') & (df['Number Injured']==0)).sum())\n",
    "print(((df['Motorcycle Involved']=='No') & (df['Motorcycle At Fault']=='Yes')).sum())\n",
    "print(((df['Bicycle Involved']=='No') & (df['Bicycle At Fault']=='Yes')).sum())\n",
    "print(((df['Pedestrian Involved']=='No') & (df['Pedestrian At Fault']=='Yes')).sum())\n"
   ]
  },
  {
   "cell_type": "markdown",
   "metadata": {},
   "source": [
    "We see contradiction,so lets see if its really contradiction:"
   ]
  },
  {
   "cell_type": "code",
   "execution_count": null,
   "metadata": {},
   "outputs": [],
   "source": [
    "df[(df['Bicycle Involved']=='No') & (df['Bicycle At Fault']=='Yes')]"
   ]
  },
  {
   "cell_type": "markdown",
   "metadata": {},
   "source": [
    "We see that the reason for Bicycle involved being negative its because the column Vehicle Type is written as bicycle so its not contradiction."
   ]
  },
  {
   "cell_type": "markdown",
   "metadata": {},
   "source": [
    "Lets see some statistics about the numeric columns"
   ]
  },
  {
   "cell_type": "code",
   "execution_count": null,
   "metadata": {},
   "outputs": [],
   "source": [
    "df.describe()"
   ]
  },
  {
   "cell_type": "markdown",
   "metadata": {},
   "source": [
    "We can understand from the table that 'Age of At Fault Person' column is right skewed"
   ]
  },
  {
   "cell_type": "markdown",
   "metadata": {},
   "source": [
    "Checking whos the gender that involve with more accidents"
   ]
  },
  {
   "cell_type": "code",
   "execution_count": null,
   "metadata": {},
   "outputs": [],
   "source": [
    "df['Gender of At Fault Person'].value_counts().reset_index()"
   ]
  },
  {
   "cell_type": "markdown",
   "metadata": {},
   "source": [
    "We see that males was at fault more than females"
   ]
  },
  {
   "cell_type": "markdown",
   "metadata": {},
   "source": [
    "## <h2>Exploratory Data Analysis</h2>"
   ]
  },
  {
   "cell_type": "markdown",
   "metadata": {},
   "source": [
    "Lets see which zones have the most accidents"
   ]
  },
  {
   "cell_type": "code",
   "execution_count": null,
   "metadata": {},
   "outputs": [],
   "source": [
    "df['Zone Sector'].value_counts().reset_index().sort_values('count',ascending=False)"
   ]
  },
  {
   "cell_type": "markdown",
   "metadata": {},
   "source": [
    "We can see that there are areas with a high number of accidents like 44 and 54."
   ]
  },
  {
   "cell_type": "code",
   "execution_count": null,
   "metadata": {},
   "outputs": [],
   "source": [
    "df_zone_nk=df.groupby('Zone Sector',as_index=False)['Number Killed'].sum().sort_values(by='Number Killed',ascending=False)\n",
    "fig=px.bar(data_frame=df_zone_nk[df_zone_nk['Number Killed']>0],x='Zone Sector',y='Number Killed')\n",
    "fig.update_xaxes(\n",
    "    dtick=1             \n",
    ")\n",
    "fig.show()\n"
   ]
  },
  {
   "cell_type": "markdown",
   "metadata": {},
   "source": [
    "We see that zones 44 and 54 have the also the most deathes in accidents, maybe in these areas, there are dangerous roads or intersections."
   ]
  },
  {
   "cell_type": "markdown",
   "metadata": {},
   "source": [
    "Lets see the distribution of the age of at fault person:"
   ]
  },
  {
   "cell_type": "code",
   "execution_count": null,
   "metadata": {},
   "outputs": [],
   "source": [
    "px.histogram(data_frame=df,x='Age of At Fault Person',title='Age of At Fault Person distribution')"
   ]
  },
  {
   "cell_type": "markdown",
   "metadata": {},
   "source": [
    "We see that young people are more involved in accidents than others, and as we guessed, the graph is right-skewed."
   ]
  },
  {
   "cell_type": "markdown",
   "metadata": {},
   "source": [
    "Checking the distribution of accidents by hours"
   ]
  },
  {
   "cell_type": "code",
   "execution_count": null,
   "metadata": {},
   "outputs": [],
   "source": [
    "df['Hour']=df['Accident Date Time'].dt.hour\n",
    "px.histogram(data_frame=df,x='Hour',title='Hour distribution')"
   ]
  },
  {
   "cell_type": "markdown",
   "metadata": {},
   "source": [
    "We see that the most accidents occur during the hours when people are going to work or returning from work (7:00-8:00 and 15:00-17:00)."
   ]
  },
  {
   "cell_type": "markdown",
   "metadata": {},
   "source": [
    "Checking the distribution of accidents by months"
   ]
  },
  {
   "cell_type": "code",
   "execution_count": null,
   "metadata": {},
   "outputs": [],
   "source": [
    "df['Month']=df['Accident Date Time'].dt.month\n",
    "px.histogram(data_frame=df,x='Month',title='Month distribution')"
   ]
  },
  {
   "cell_type": "markdown",
   "metadata": {},
   "source": [
    "I dont see much difference between the monthes"
   ]
  },
  {
   "cell_type": "markdown",
   "metadata": {},
   "source": [
    "Checking the distribution of accidents by the 'Vehicle Type' column, which represents the type of vehicle at fault."
   ]
  },
  {
   "cell_type": "code",
   "execution_count": null,
   "metadata": {},
   "outputs": [],
   "source": [
    "px.histogram(data_frame=df,x='Vehicle Type',title='Vehicle Type distribution')"
   ]
  },
  {
   "cell_type": "markdown",
   "metadata": {},
   "source": [
    "We see that the vast majority of the accidents are caused by automobile. After automobile, its trucks."
   ]
  },
  {
   "cell_type": "markdown",
   "metadata": {},
   "source": [
    "Lets see some statistics about the accidents:"
   ]
  },
  {
   "cell_type": "code",
   "execution_count": null,
   "metadata": {},
   "outputs": [],
   "source": [
    "print(f'{(len(df[df[\"Involved Death\"]==\"Yes\"])/len(df)) * 100:.2f}% of the accidents involved death')\n",
    "print(f'{(len(df[df[\"Involved Injury\"]==\"Yes\"])/len(df)) * 100:.2f}% of the accidents involved injury')\n",
    "print(f'{(len(df[df[\"Motorcycle Involved\"]==\"Yes\"])/len(df)) * 100:.2f}% of the accidents involved Motorcycle')\n",
    "print(f'{(len(df[df[\"Bicycle Involved\"]==\"Yes\"])/len(df)) * 100:.2f}% of the accidents involved Bicycle')\n",
    "print(f'{(len(df[df[\"Pedestrian Involved\"]==\"Yes\"])/len(df)) * 100:.2f}% of the accidents involved Pedestrian')\n",
    "print(f'{(len(df[df[\"Citation Issued\"]==\"Yes\"])/len(df)) * 100:.2f}% of the accidents issued citation')\n"
   ]
  },
  {
   "cell_type": "markdown",
   "metadata": {},
   "source": [
    "Adding new column 'age_at_fault_category' that maps between ages to category: 0-18 is kid, 18-36 is young, 36-55 is senior and 55 and above is old. Adding column 'severe_level' that represent the level of the result of the accident: 3 if the accident involved death, 2 if the accident involved injury and 1 otherwise. Also we adding another column 'Number_of_casualties' that represent the casualties of the accident (deaths and injuries)"
   ]
  },
  {
   "cell_type": "code",
   "execution_count": null,
   "metadata": {},
   "outputs": [],
   "source": [
    "def compute_severe_level_accident(row):\n",
    "    if row['Involved Death']=='Yes':\n",
    "        return 3\n",
    "    if row['Involved Injury']=='Yes':\n",
    "        return 2\n",
    "    return 1\n",
    "def age_to_category(row):\n",
    "    if row['Age of At Fault Person'] < 18:\n",
    "        return 'Kid (0-18)'\n",
    "    if row['Age of At Fault Person']< 36:\n",
    "        return 'Young (18-36)'\n",
    "    if row['Age of At Fault Person']< 55:\n",
    "        return 'Senior (36-55)'\n",
    "    else:\n",
    "        return 'Old (55<)'\n",
    "df['age_at_fault_category']=df.apply(age_to_category, axis=1)\n",
    "df['severe_level']=df.apply(compute_severe_level_accident,axis=1)\n",
    "severe_accidents=df[(df['Involved Death']=='Yes') | (df['Involved Injury']=='Yes')]\n",
    "df['Number_of_casualties']=df['Number Injured']+df['Number Killed']"
   ]
  },
  {
   "cell_type": "markdown",
   "metadata": {},
   "source": [
    "Creating histogram of age_at_fault_category:"
   ]
  },
  {
   "cell_type": "code",
   "execution_count": null,
   "metadata": {},
   "outputs": [],
   "source": [
    "px.histogram(data_frame=df,x='age_at_fault_category',title='accidents by age category')"
   ]
  },
  {
   "cell_type": "markdown",
   "metadata": {},
   "source": [
    "Visualizing the distribution of accidents by gender at fault in severe accidents:"
   ]
  },
  {
   "cell_type": "code",
   "execution_count": null,
   "metadata": {},
   "outputs": [],
   "source": [
    "px.histogram(data_frame=severe_accidents,x='Gender of At Fault Person',title='Gender of At Fault Person in severe accidents distribution')"
   ]
  },
  {
   "cell_type": "markdown",
   "metadata": {},
   "source": [
    "Checking how much each of the categories is at fault in the severe accident."
   ]
  },
  {
   "cell_type": "code",
   "execution_count": null,
   "metadata": {},
   "outputs": [],
   "source": [
    "gender_involved_death=severe_accidents['age_at_fault_category'].value_counts().reset_index()\n",
    "gender_involved_death"
   ]
  },
  {
   "cell_type": "markdown",
   "metadata": {},
   "source": [
    "Lets see it in graph:"
   ]
  },
  {
   "cell_type": "code",
   "execution_count": null,
   "metadata": {},
   "outputs": [],
   "source": [
    "px.bar(data_frame=gender_involved_death,x='age_at_fault_category',y='count',title='Severe accidents by age category')"
   ]
  },
  {
   "cell_type": "markdown",
   "metadata": {},
   "source": [
    "## <h2>Advanced Analysis</h2>"
   ]
  },
  {
   "cell_type": "markdown",
   "metadata": {},
   "source": [
    "We see that young people (18-36) are the most at fault in severe accidents, while kids are the least at fault."
   ]
  },
  {
   "cell_type": "code",
   "execution_count": null,
   "metadata": {},
   "outputs": [],
   "source": [
    "sns.barplot(data=df, x=\"age_at_fault_category\", y=\"Number_of_casualties\", hue=\"severe_level\",estimator=sum)\n",
    "plt.title(\"Number of Casualties by Age Category and Severity Level\")\n",
    "plt.show()"
   ]
  },
  {
   "cell_type": "markdown",
   "metadata": {},
   "source": [
    "We see that in both severe levels 1 and 2, young people (18-36) are the most at fault in severe accidents, while kids are the least at fault."
   ]
  },
  {
   "cell_type": "markdown",
   "metadata": {},
   "source": [
    "Creating pivot table: rows as Gender of At Fault Person, columns as severe_level and the values are the mean age at fault person"
   ]
  },
  {
   "cell_type": "code",
   "execution_count": null,
   "metadata": {},
   "outputs": [],
   "source": [
    "df.pivot_table(values='Age of At Fault Person', index='Gender of At Fault Person', columns='severe_level', aggfunc='mean')"
   ]
  },
  {
   "cell_type": "markdown",
   "metadata": {},
   "source": [
    "Adding a new column, 'two_wheeled_vehicle_involved', that represents whether a two-wheeled vehicle (bicycle or motorcycle) was involved in the accident. Also, creating a histogram to show how many accidents involved two-wheeled vehicles in severe accidents."
   ]
  },
  {
   "cell_type": "code",
   "execution_count": null,
   "metadata": {},
   "outputs": [],
   "source": [
    "def two_wheeled_vehicle_involved(row):\n",
    "    if row['Vehicle Type'] == 'Bicycle':\n",
    "        return 'Yes'\n",
    "    if row['Vehicle Type'] == 'Motorcycle':\n",
    "        return 'Yes'\n",
    "    if row['Motorcycle Involved'] == 'Yes':\n",
    "        return 'Yes'\n",
    "    if row['Bicycle Involved'] == 'Yes':\n",
    "        return 'Yes'\n",
    "    else:\n",
    "        return 'No'\n",
    "df['two_wheeled_vehicle_involved']=df.apply(two_wheeled_vehicle_involved, axis=1)\n",
    "px.histogram(data_frame=df[(df['Involved Death']=='Yes') | (df['Involved Injury']=='Yes')],x='two_wheeled_vehicle_involved',title='Two wheeled vehicle in severe accidents')\n"
   ]
  },
  {
   "cell_type": "markdown",
   "metadata": {},
   "source": [
    "While I thought there would be more 'yes', there are more severe accidents without two-wheeled vehicles involved than with."
   ]
  },
  {
   "cell_type": "code",
   "execution_count": null,
   "metadata": {},
   "outputs": [],
   "source": [
    "df['Year']=df['Accident Date Time'].dt.year\n",
    "px.histogram(data_frame=df[(df['Involved Death']=='Yes') | (df['Involved Injury']=='Yes')],x='Year',y='Number Killed',color='Gender of At Fault Person',title='Distribution of years seperated by gender at fault')"
   ]
  },
  {
   "cell_type": "markdown",
   "metadata": {},
   "source": [
    "We can see that 2022 was the deadliest year, and males were more involved in accidents."
   ]
  },
  {
   "cell_type": "markdown",
   "metadata": {
    "execution": {
     "iopub.execute_input": "2025-03-11T08:59:16.525104Z",
     "iopub.status.busy": "2025-03-11T08:59:16.524786Z",
     "iopub.status.idle": "2025-03-11T08:59:16.531522Z",
     "shell.execute_reply": "2025-03-11T08:59:16.530008Z",
     "shell.execute_reply.started": "2025-03-11T08:59:16.525078Z"
    }
   },
   "source": [
    "Creating bar plots that represent the number of casualties each year, separated by the gender of the at-fault person"
   ]
  },
  {
   "cell_type": "code",
   "execution_count": null,
   "metadata": {},
   "outputs": [],
   "source": [
    "fig = go.Figure() \n",
    "for year in [2016,2017,2018,2019,2020,2021,2022,2023,2024,2025]: \n",
    "    df_year = df[df['Year'] == year].groupby('Gender of At Fault Person',as_index=False)['Number_of_casualties'].sum()  \n",
    "    fig.add_trace(go.Bar(x=df_year['Gender of At Fault Person'],y=df_year['Number_of_casualties'], name=year))\n",
    "dropdown_buttons = [ \n",
    "{'label': '2016', 'method': 'update', \n",
    "'args': [{'visible': [True, False, False, False, False, False, False, False, False, False]}, \n",
    "{'title': '2016'}]},  \n",
    "{'label': '2017', 'method': 'update', \n",
    "'args': [{'visible': [False, True, False, False, False, False, False, False, False, False]}, \n",
    "{'title': '2017'}]},  \n",
    "{'label': '2018', 'method': 'update', \n",
    "'args': [{'visible': [False, False, True, False, False, False, False, False, False, False]}, \n",
    "{'title': '2018'}]}, \n",
    "    {'label': '2019', 'method': 'update', \n",
    "'args': [{'visible': [False, False, False, True, False, False, False, False, False, False]}, \n",
    "{'title': '2019'}]}, \n",
    "    {'label': '2020', 'method': 'update', \n",
    "'args': [{'visible': [False, False, False, False, True, False, False, False, False, False]}, \n",
    "{'title': '2020'}]}, \n",
    "    {'label': '2021', 'method': 'update', \n",
    "'args': [{'visible': [False, False, False, False, False, True, False, False, False, False]}, \n",
    "{'title': '2021'}]}, \n",
    "    {'label': '2022', 'method': 'update', \n",
    "'args': [{'visible': [False, False, False, False, False, False, True, False, False, False]}, \n",
    "{'title': '2022'}]}, \n",
    "    {'label': '2023', 'method': 'update', \n",
    "'args': [{'visible': [False, False, False, False, False, False, False, True, False, False]}, \n",
    "{'title': '2023'}]}, \n",
    "    {'label': '2024', 'method': 'update', \n",
    "'args': [{'visible': [False, False, False, False, False, False, False, False, True, False]}, \n",
    "{'title': '2024'}]}, \n",
    "    {'label': '2025', 'method': 'update', \n",
    "'args': [{'visible': [False, False, False, False, False, False, False, False, False, True]}, \n",
    "{'title': '2025'}]}\n",
    "]\n",
    "fig.update_layout({ \n",
    "'updatemenus':[{ \n",
    "'type': \"dropdown\", \n",
    "'x': 0.99, \n",
    "'y': 0.99, \n",
    "'showactive': True, \n",
    "'active': 0, \n",
    "'buttons': dropdown_buttons}] \n",
    "}) \n",
    "fig.update_layout({'xaxis': {'title': {'text': 'Gender of At Fault Person'}}, \n",
    "'yaxis': {'title':{'text': 'Number of casualties'}}}) \n",
    "fig.show()"
   ]
  },
  {
   "cell_type": "markdown",
   "metadata": {},
   "source": [
    "We see that every year, males are involved in accidents with more casualties, except for 2025, for which we have less information."
   ]
  },
  {
   "cell_type": "markdown",
   "metadata": {},
   "source": [
    "Creating scatter graph for 'Age of At Fault Person' and 'Number_of_casualties' columns."
   ]
  },
  {
   "cell_type": "code",
   "execution_count": null,
   "metadata": {},
   "outputs": [],
   "source": [
    "fig=px.scatter(data_frame=df,x='Age of At Fault Person',y='Number_of_casualties',color='Gender of At Fault Person',title='Scatter plot of age at fault and number of casualties',opacity=0.75)\n",
    "fig.update_layout(\n",
    "    yaxis=dict(range=[0, df['Number_of_casualties'].max() + 2])\n",
    ")\n",
    "\n",
    "fig.show()"
   ]
  },
  {
   "cell_type": "markdown",
   "metadata": {},
   "source": [
    "We see that theres no connection between the 2 columns."
   ]
  },
  {
   "cell_type": "markdown",
   "metadata": {},
   "source": [
    "Creating a histogram of severe accidents in weather a pedestrian was involved."
   ]
  },
  {
   "cell_type": "code",
   "execution_count": null,
   "metadata": {},
   "outputs": [],
   "source": [
    "px.histogram(data_frame=severe_accidents,x='Pedestrian Involved',title='Distribution of Pedestrian Involved')"
   ]
  },
  {
   "cell_type": "markdown",
   "metadata": {},
   "source": [
    "We can see that pedestrians were not involved in many severe accidents."
   ]
  },
  {
   "cell_type": "markdown",
   "metadata": {},
   "source": [
    "Creating box graph for the Age of At Fault Person column separated by a Gender of At Fault Person"
   ]
  },
  {
   "cell_type": "code",
   "execution_count": null,
   "metadata": {},
   "outputs": [],
   "source": [
    "px.box(data_frame=df,y='Age of At Fault Person',color='Gender of At Fault Person',title='Box plot by gender')"
   ]
  },
  {
   "cell_type": "markdown",
   "metadata": {},
   "source": [
    "We see that female, male and unknown have outliers and their median is approximately the same, male and female have larger distribution from others."
   ]
  },
  {
   "cell_type": "markdown",
   "metadata": {},
   "source": [
    "Creating box graph for the Age of At Fault Person column separated by a Race of At Fault Person"
   ]
  },
  {
   "cell_type": "code",
   "execution_count": null,
   "metadata": {},
   "outputs": [],
   "source": [
    "px.box(data_frame=df,y='Age of At Fault Person',color='Race of At Fault Person',title='Box plot by race')"
   ]
  },
  {
   "cell_type": "markdown",
   "metadata": {},
   "source": [
    "We see that white have the largest distribution, the median of asian is the biggest, we also see that white, unknown, black and indian have outliers, also black and indian have the smallest distribution. "
   ]
  },
  {
   "cell_type": "markdown",
   "metadata": {},
   "source": [
    "Creating box graph for the Age of At Fault Person column separated by a Ethnicity of At Fault Person"
   ]
  },
  {
   "cell_type": "code",
   "execution_count": null,
   "metadata": {},
   "outputs": [],
   "source": [
    "px.box(data_frame=df,y='Age of At Fault Person',color='Ethnicity of At Fault Person',title='Box plot by Ethnicity')"
   ]
  },
  {
   "cell_type": "markdown",
   "metadata": {},
   "source": [
    "We see that they all have outliers, the distribution of hispanic is the smallest, and hispanic have the smallest median."
   ]
  },
  {
   "cell_type": "markdown",
   "metadata": {},
   "source": [
    "Here we created them all at once together."
   ]
  },
  {
   "cell_type": "code",
   "execution_count": null,
   "metadata": {},
   "outputs": [],
   "source": [
    "fig = make_subplots(rows=1, cols=3, subplot_titles=('By Gender', 'By Race','By Ethnicity'))\n",
    "fig.add_trace(go.Box(\n",
    "    y=df['Age of At Fault Person'],\n",
    "    x=df['Gender of At Fault Person'],\n",
    "    name='By Gender',\n",
    "    boxmean=True \n",
    "),row=1,col=1)\n",
    "fig.add_trace(go.Box(\n",
    "    y=df['Age of At Fault Person'],\n",
    "    x=df['Race of At Fault Person'],\n",
    "    name='By Race',\n",
    "    boxmean=True \n",
    "),row=1,col=2)\n",
    "fig.add_trace(go.Box(\n",
    "    y=df['Age of At Fault Person'],\n",
    "    x=df['Ethnicity of At Fault Person'],\n",
    "    name='By Ethnicity',\n",
    "    boxmean=True\n",
    "),row=1,col=3)\n",
    "\n",
    "fig.update_layout(\n",
    "    title=\"Box Plots for Age of At Fault Person\",\n",
    "    showlegend=False,\n",
    "    boxmode='group'\n",
    ")\n",
    "\n",
    "fig.show()"
   ]
  },
  {
   "cell_type": "markdown",
   "metadata": {},
   "source": [
    "Checking the correlation between the numeric columns."
   ]
  },
  {
   "cell_type": "code",
   "execution_count": null,
   "metadata": {},
   "outputs": [],
   "source": [
    "df.select_dtypes('number').corr()"
   ]
  },
  {
   "cell_type": "markdown",
   "metadata": {},
   "source": [
    "We see that there isnt much correlation between the variables (Except for the Number Injured to Number_of_casualties where one is inside the other)"
   ]
  },
  {
   "cell_type": "markdown",
   "metadata": {},
   "source": [
    "Creating an histogram of Citation Issued column"
   ]
  },
  {
   "cell_type": "code",
   "execution_count": null,
   "metadata": {},
   "outputs": [],
   "source": [
    "px.histogram(data_frame=df,x='Citation Issued',title='Citation Issued distribution')"
   ]
  },
  {
   "cell_type": "markdown",
   "metadata": {},
   "source": [
    "We see that in most accidents, a citation was given."
   ]
  },
  {
   "cell_type": "code",
   "execution_count": null,
   "metadata": {},
   "outputs": [],
   "source": [
    "pd.crosstab(df['Citation Issued'],df['age_at_fault_category'],normalize='columns')"
   ]
  },
  {
   "cell_type": "markdown",
   "metadata": {},
   "source": [
    "We see that in accidents where kids are at fault, a citation is given more often than in the others accidents and also senior was given less than the others."
   ]
  },
  {
   "cell_type": "code",
   "execution_count": null,
   "metadata": {},
   "outputs": [],
   "source": [
    "pd.crosstab(df['Citation Issued'],df['Race of At Fault Person'],normalize='columns')"
   ]
  },
  {
   "cell_type": "markdown",
   "metadata": {},
   "source": [
    "We see that in accidents where black and unknown are at fault, a citation is given less often. Also asian receive the most citation."
   ]
  },
  {
   "cell_type": "code",
   "execution_count": null,
   "metadata": {},
   "outputs": [],
   "source": [
    "pd.crosstab(df['Citation Issued'],df['Ethnicity of At Fault Person'],normalize='columns')"
   ]
  },
  {
   "cell_type": "markdown",
   "metadata": {},
   "source": [
    "We see that all of them receive approximately the same citaion."
   ]
  },
  {
   "cell_type": "markdown",
   "metadata": {},
   "source": [
    "Lets see all the graphs of numeric columns:"
   ]
  },
  {
   "cell_type": "code",
   "execution_count": null,
   "metadata": {},
   "outputs": [],
   "source": [
    "sns.pairplot(data=df)"
   ]
  },
  {
   "cell_type": "markdown",
   "metadata": {},
   "source": [
    "As we saw earlier, since there is no correlation between the variables, the graphs appear scattered."
   ]
  },
  {
   "cell_type": "markdown",
   "metadata": {},
   "source": [
    "Let's look at the combination of columns Pedestrian Involved, Motorcycle Involved, and Bicycle Involved with the number of casualties"
   ]
  },
  {
   "cell_type": "code",
   "execution_count": null,
   "metadata": {},
   "outputs": [],
   "source": [
    "df.groupby(['Pedestrian Involved','Motorcycle Involved','Bicycle Involved'],as_index=False)['Number_of_casualties'].sum()\n"
   ]
  },
  {
   "cell_type": "markdown",
   "metadata": {},
   "source": [
    "Create an histogram of the column 'Driver Contributing Factor'"
   ]
  },
  {
   "cell_type": "code",
   "execution_count": null,
   "metadata": {},
   "outputs": [],
   "source": [
    "px.histogram(data_frame=df,x='Driver Contributing Factor',title='Driver Contributing Factor distribution')"
   ]
  },
  {
   "cell_type": "markdown",
   "metadata": {},
   "source": [
    "We see that most of the accidents were caused by 'No apparent factor', but there are quite a few accidents caused by Driving under the influence (DUI), Driving While Ability Impaired (DWAI), and Driving while Under the Influence of Drugs (DUID),inexperience and distraction."
   ]
  },
  {
   "cell_type": "markdown",
   "metadata": {},
   "source": [
    "Lets see the number of casualties caused by each Driver Contributing Factor."
   ]
  },
  {
   "cell_type": "code",
   "execution_count": null,
   "metadata": {},
   "outputs": [],
   "source": [
    "driver_contributing_death=df.groupby('Driver Contributing Factor',as_index=False)['Number_of_casualties'].sum().sort_values(by='Number_of_casualties',ascending=False)\n",
    "driver_contributing_death"
   ]
  },
  {
   "cell_type": "markdown",
   "metadata": {},
   "source": [
    "We see that except 'no factor' or 'other factor', Driving under the influence (DUI), Driving While Ability Impaired (DWAI), and Driving while Under the Influence of Drugs (DUID),inexperience and distraction was the main factors for a large number of casualties"
   ]
  },
  {
   "cell_type": "markdown",
   "metadata": {},
   "source": [
    "Visualizing 'Driver Contributing Factor' and 'Number_of_casualties'"
   ]
  },
  {
   "cell_type": "code",
   "execution_count": null,
   "metadata": {},
   "outputs": [],
   "source": [
    "px.bar(data_frame=driver_contributing_death,x='Driver Contributing Factor',y='Number_of_casualties',title='Driver Contributing Factor by number of casualties')"
   ]
  }
 ],
 "metadata": {
  "kaggle": {
   "accelerator": "none",
   "dataSources": [
    {
     "datasetId": 6771696,
     "sourceId": 10896519,
     "sourceType": "datasetVersion"
    }
   ],
   "dockerImageVersionId": 30918,
   "isGpuEnabled": false,
   "isInternetEnabled": true,
   "language": "python",
   "sourceType": "notebook"
  },
  "kernelspec": {
   "display_name": "Python 3 (ipykernel)",
   "language": "python",
   "name": "python3"
  },
  "language_info": {
   "codemirror_mode": {
    "name": "ipython",
    "version": 3
   },
   "file_extension": ".py",
   "mimetype": "text/x-python",
   "name": "python",
   "nbconvert_exporter": "python",
   "pygments_lexer": "ipython3",
   "version": "3.13.2"
  }
 },
 "nbformat": 4,
 "nbformat_minor": 4
}
